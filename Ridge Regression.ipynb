{
 "cells": [
  {
   "cell_type": "code",
   "execution_count": 14,
   "metadata": {},
   "outputs": [],
   "source": [
    "import numpy as np\n",
    "import pandas as pd\n",
    "from sklearn.linear_model import Ridge\n",
    "from sklearn.model_selection import train_test_split\n",
    "from sklearn.metrics import r2_score"
   ]
  },
  {
   "cell_type": "markdown",
   "metadata": {},
   "source": [
    "# Regularization:\n",
    "A group of techniques that provides additional information to our model to prevent it from overfitting and helps it to generalize well.\n",
    "## Ridge Regularization (L2):\n",
    "The L2 regularization keeps all the features in our model and ensures there coefficinet are evenly distributed. The L2 regularization is used where all the features are equally important and there is no need for feature selection. The alpha is used to control the strength of regularization its values ranges from 0 to inf."
   ]
  },
  {
   "cell_type": "code",
   "execution_count": 15,
   "metadata": {},
   "outputs": [],
   "source": [
    "class our_RidgeRegressor():\n",
    "    def __init__(self,alpha= 0.1):\n",
    "        self.alpha = alpha\n",
    "        self.intercept_ = None\n",
    "        self.coef_ = None\n",
    "    def fit(self, X_train, y_train):\n",
    "        X_train = np.insert(X_train,0,1,axis=1)\n",
    "        betas = np.linalg.inv(np.dot(X_train.T,X_train)-self.alpha*np.identity(X_train.shape[1])).dot(X_train.T).dot(y_train)\n",
    "        self.intercept_ = betas[0]\n",
    "        self.coef_ = betas[1:]\n",
    "    def predict(self,X_test):\n",
    "        pred = np.dot(X_test,self.coef_) + self.intercept_\n",
    "        return pred"
   ]
  },
  {
   "cell_type": "code",
   "execution_count": 16,
   "metadata": {},
   "outputs": [],
   "source": [
    "from sklearn.datasets import load_diabetes\n",
    "X,y = load_diabetes(return_X_y=True)\n",
    "X_train, X_test, y_train, y_test = train_test_split(X,y, test_size=0.2, random_state=42) "
   ]
  },
  {
   "cell_type": "markdown",
   "metadata": {},
   "source": [
    "### Scikit-Learns Implementation"
   ]
  },
  {
   "cell_type": "code",
   "execution_count": 17,
   "metadata": {},
   "outputs": [
    {
     "name": "stdout",
     "output_type": "stream",
     "text": [
      "r2 score=  0.46085219464119254\n",
      "coefficient= [  42.85566976 -205.49431899  505.08903304  317.0932049  -108.50026183\n",
      "  -86.23673333 -190.36318008  151.70708637  392.28931896   79.9081772 ]\n",
      "Intercept= 151.45857456679613\n"
     ]
    }
   ],
   "source": [
    "reg = Ridge(alpha=0.1)\n",
    "reg.fit(X_train,y_train)\n",
    "pred = reg.predict(X_test)\n",
    "score = r2_score(y_test,pred)\n",
    "print(\"r2 score= \",score)\n",
    "print(\"coefficient=\" ,reg.coef_)\n",
    "print(\"Intercept=\" ,reg.intercept_)"
   ]
  },
  {
   "cell_type": "markdown",
   "metadata": {},
   "source": [
    "### Our Implementation"
   ]
  },
  {
   "cell_type": "code",
   "execution_count": 19,
   "metadata": {},
   "outputs": [
    {
     "name": "stdout",
     "output_type": "stream",
     "text": [
      "r2 score=  0.44104446740203906\n",
      "coefficient= [  42.77436386 -282.9322093   629.32063045  371.30363733   -7.46605735\n",
      " -234.71864346 -298.84344422  110.01738796  437.98583952    9.48542789]\n",
      "Intercept= 151.1586533987435\n"
     ]
    }
   ],
   "source": [
    "our_reg = our_RidgeRegressor()\n",
    "our_reg.fit(X_train,y_train)\n",
    "our_pred = our_reg.predict(X_test)\n",
    "score = r2_score(y_test,our_pred)\n",
    "print(\"r2 score= \",score)\n",
    "print(\"coefficient=\" ,our_reg.coef_)\n",
    "print(\"Intercept=\" ,our_reg.intercept_)"
   ]
  }
 ],
 "metadata": {
  "kernelspec": {
   "display_name": "Python 3",
   "language": "python",
   "name": "python3"
  },
  "language_info": {
   "codemirror_mode": {
    "name": "ipython",
    "version": 3
   },
   "file_extension": ".py",
   "mimetype": "text/x-python",
   "name": "python",
   "nbconvert_exporter": "python",
   "pygments_lexer": "ipython3",
   "version": "3.13.0"
  }
 },
 "nbformat": 4,
 "nbformat_minor": 2
}
