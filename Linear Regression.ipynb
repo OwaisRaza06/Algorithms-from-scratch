{
 "cells": [
  {
   "cell_type": "markdown",
   "metadata": {},
   "source": [
    "# Coding Linear Regression from scratch \n",
    "## The OLS (Ordinary Least Square) Method:\n",
    "In simple words the OLS method doesn't involves any approximation techniques to find the solution like differentiation instead the values are fitted in a determined formula to calculate the result. Note that the OLS doesn't involve differentiation in its practical application however the derivation of OLS estimator involves differentiation. For more details visit: https://en.wikipedia.org/wiki/Ordinary_least_squares"
   ]
  },
  {
   "cell_type": "code",
   "execution_count": 45,
   "metadata": {},
   "outputs": [],
   "source": [
    "import numpy as np\n",
    "import pandas as pd\n",
    "from sklearn.linear_model import LinearRegression\n",
    "from sklearn.model_selection import train_test_split"
   ]
  },
  {
   "cell_type": "markdown",
   "metadata": {},
   "source": [
    "# Simple Linear Regression from scratch"
   ]
  },
  {
   "cell_type": "code",
   "execution_count": 46,
   "metadata": {},
   "outputs": [],
   "source": [
    "class simple_LinearRegressor():\n",
    "    def __init__ (self):\n",
    "        self.m = None\n",
    "        self.b = None \n",
    "    def fit(self,X_train,y_train):\n",
    "        num = 0\n",
    "        den = 0\n",
    "        for i in range(X_train.shape[0]):\n",
    "            num = num + ((X_train[i] - X_train.mean())*(y_train[i] - y_train.mean()))\n",
    "            den = den + ((X_train[i] - X_train.mean())*(X_train[i] - X_train.mean()))\n",
    "        self.m = num/den\n",
    "        self.b = y_train.mean() - (self.m * X_train.mean())\n",
    "    def predict(self,X_test):\n",
    "        y_pred = self.m*X_test + self.b\n",
    "        return y_pred"
   ]
  },
  {
   "cell_type": "code",
   "execution_count": 47,
   "metadata": {},
   "outputs": [
    {
     "data": {
      "text/html": [
       "<div>\n",
       "<style scoped>\n",
       "    .dataframe tbody tr th:only-of-type {\n",
       "        vertical-align: middle;\n",
       "    }\n",
       "\n",
       "    .dataframe tbody tr th {\n",
       "        vertical-align: top;\n",
       "    }\n",
       "\n",
       "    .dataframe thead th {\n",
       "        text-align: right;\n",
       "    }\n",
       "</style>\n",
       "<table border=\"1\" class=\"dataframe\">\n",
       "  <thead>\n",
       "    <tr style=\"text-align: right;\">\n",
       "      <th></th>\n",
       "      <th>cgpa</th>\n",
       "      <th>package</th>\n",
       "    </tr>\n",
       "  </thead>\n",
       "  <tbody>\n",
       "    <tr>\n",
       "      <th>130</th>\n",
       "      <td>6.68</td>\n",
       "      <td>2.49</td>\n",
       "    </tr>\n",
       "    <tr>\n",
       "      <th>83</th>\n",
       "      <td>8.44</td>\n",
       "      <td>3.49</td>\n",
       "    </tr>\n",
       "    <tr>\n",
       "      <th>10</th>\n",
       "      <td>5.32</td>\n",
       "      <td>1.86</td>\n",
       "    </tr>\n",
       "    <tr>\n",
       "      <th>173</th>\n",
       "      <td>6.75</td>\n",
       "      <td>2.56</td>\n",
       "    </tr>\n",
       "    <tr>\n",
       "      <th>194</th>\n",
       "      <td>7.89</td>\n",
       "      <td>3.67</td>\n",
       "    </tr>\n",
       "  </tbody>\n",
       "</table>\n",
       "</div>"
      ],
      "text/plain": [
       "     cgpa  package\n",
       "130  6.68     2.49\n",
       "83   8.44     3.49\n",
       "10   5.32     1.86\n",
       "173  6.75     2.56\n",
       "194  7.89     3.67"
      ]
     },
     "execution_count": 47,
     "metadata": {},
     "output_type": "execute_result"
    }
   ],
   "source": [
    "df = pd.read_csv('Datasets/placement.csv')\n",
    "df.sample(5)"
   ]
  },
  {
   "cell_type": "code",
   "execution_count": 48,
   "metadata": {},
   "outputs": [],
   "source": [
    "X = df.iloc[:,0].values\n",
    "y = df.iloc[:,1].values\n",
    "X_train,X_test,y_train,y_test = train_test_split(X,y,test_size=0.2,random_state=42)\n",
    "X_train = X_train.reshape(-1, 1)\n",
    "X_test = X_test.reshape(-1, 1)"
   ]
  },
  {
   "cell_type": "code",
   "execution_count": 49,
   "metadata": {},
   "outputs": [],
   "source": [
    "sklearn_LR = LinearRegression()\n",
    "sklearn_LR.fit(X_train,y_train)\n",
    "pred = sklearn_LR.predict(X_test)"
   ]
  },
  {
   "cell_type": "code",
   "execution_count": 50,
   "metadata": {},
   "outputs": [
    {
     "name": "stdout",
     "output_type": "stream",
     "text": [
      "-1.0270069374542108\n",
      "[0.57425647]\n"
     ]
    }
   ],
   "source": [
    "print(sklearn_LR.intercept_)\n",
    "print(sklearn_LR.coef_)"
   ]
  },
  {
   "cell_type": "code",
   "execution_count": 51,
   "metadata": {},
   "outputs": [],
   "source": [
    "our_SLR = simple_LinearRegressor()\n",
    "our_SLR.fit(X_train,y_train)\n",
    "pred = our_SLR.predict(X_test)"
   ]
  },
  {
   "cell_type": "code",
   "execution_count": 52,
   "metadata": {},
   "outputs": [
    {
     "name": "stdout",
     "output_type": "stream",
     "text": [
      "[-1.02700694]\n",
      "[0.57425647]\n"
     ]
    }
   ],
   "source": [
    "print(our_SLR.b)\n",
    "print(our_SLR.m)"
   ]
  },
  {
   "cell_type": "markdown",
   "metadata": {},
   "source": [
    "When compared the results from both our implementation and scikit-learn's implementation are same having same intercept and coefficient values indicating that the scikit-learn also uses the OLS technique however we need to modify our code so that it can handle multiple linear regression like scikit-learn"
   ]
  },
  {
   "cell_type": "markdown",
   "metadata": {},
   "source": [
    "# Multiple Linear Regression"
   ]
  },
  {
   "cell_type": "code",
   "execution_count": 53,
   "metadata": {},
   "outputs": [],
   "source": [
    "class multiple_LinearRegressor():\n",
    "    def __init__(self):\n",
    "        self.m = None   #coefficient\n",
    "        self.b = None   #intercept\n",
    "    def fit(self,X_train,y_train):\n",
    "        X_train = np.insert(X_train,0,1,axis=1) #add extra column for beta(zero)\n",
    "        betas = np.linalg.inv(np.dot(X_train.T,X_train)).dot(np.dot(X_train.T,y_train))\n",
    "        self.b = betas[0]\n",
    "        self.m = betas[1:]\n",
    "    def predict(self,X_test):\n",
    "        pred = np.dot(X_test,self.m) + self.b\n",
    "        return pred"
   ]
  },
  {
   "cell_type": "code",
   "execution_count": 54,
   "metadata": {},
   "outputs": [],
   "source": [
    "from sklearn.datasets import load_diabetes\n",
    "\n",
    "X,y = load_diabetes(return_X_y=True)\n",
    "\n",
    "X_train,X_test,y_train,y_test = train_test_split(X,y, test_size=0.2,random_state=42)"
   ]
  },
  {
   "cell_type": "code",
   "execution_count": 55,
   "metadata": {},
   "outputs": [],
   "source": [
    "sklearn_LR = LinearRegression()\n",
    "sklearn_LR.fit(X_train,y_train)\n",
    "pred = sklearn_LR.predict(X_test)"
   ]
  },
  {
   "cell_type": "code",
   "execution_count": 56,
   "metadata": {},
   "outputs": [
    {
     "name": "stdout",
     "output_type": "stream",
     "text": [
      "151.34560453985995\n",
      "[  37.90402135 -241.96436231  542.42875852  347.70384391 -931.48884588\n",
      "  518.06227698  163.41998299  275.31790158  736.1988589    48.67065743]\n"
     ]
    }
   ],
   "source": [
    "print(sklearn_LR.intercept_)\n",
    "print(sklearn_LR.coef_)"
   ]
  },
  {
   "cell_type": "code",
   "execution_count": 57,
   "metadata": {},
   "outputs": [],
   "source": [
    "our_MLR = multiple_LinearRegressor()\n",
    "our_MLR.fit(X_train,y_train)\n",
    "pred = our_MLR.predict(X_test)"
   ]
  },
  {
   "cell_type": "code",
   "execution_count": 58,
   "metadata": {},
   "outputs": [
    {
     "name": "stdout",
     "output_type": "stream",
     "text": [
      "151.34560453985995\n",
      "[  37.90402135 -241.96436231  542.42875852  347.70384391 -931.48884588\n",
      "  518.06227698  163.41998299  275.31790158  736.1988589    48.67065743]\n"
     ]
    }
   ],
   "source": [
    "print(our_MLR.b)\n",
    "print(our_MLR.m)"
   ]
  }
 ],
 "metadata": {
  "kernelspec": {
   "display_name": "Python 3",
   "language": "python",
   "name": "python3"
  },
  "language_info": {
   "codemirror_mode": {
    "name": "ipython",
    "version": 3
   },
   "file_extension": ".py",
   "mimetype": "text/x-python",
   "name": "python",
   "nbconvert_exporter": "python",
   "pygments_lexer": "ipython3",
   "version": "3.13.0"
  }
 },
 "nbformat": 4,
 "nbformat_minor": 2
}
